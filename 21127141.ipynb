{
 "cells": [
  {
   "cell_type": "markdown",
   "metadata": {},
   "source": [
    "# <center>Đồ án 3: Linear Regression</center>"
   ]
  },
  {
   "cell_type": "markdown",
   "metadata": {},
   "source": [
    "# Thông tin sinh viên\n",
    "\n",
    "- Họ và tên: Bùi Đỗ Duy Quân\n",
    "- MSSV: 21127141\n",
    "- Lớp: 21CLC02"
   ]
  },
  {
   "cell_type": "markdown",
   "metadata": {},
   "source": [
    "# Import"
   ]
  },
  {
   "cell_type": "code",
   "execution_count": 1351,
   "metadata": {},
   "outputs": [],
   "source": [
    "import pandas as pd\n",
    "import numpy as np\n",
    "\n",
    "# Import thêm dữ thư viện nếu cần\n",
    "from sklearn.feature_selection import VarianceThreshold\n",
    "from sklearn.feature_selection import mutual_info_regression\n",
    "from sklearn.feature_selection import SelectPercentile"
   ]
  },
  {
   "cell_type": "markdown",
   "metadata": {},
   "source": [
    "# Đọc dữ liệu"
   ]
  },
  {
   "cell_type": "code",
   "execution_count": 1352,
   "metadata": {},
   "outputs": [],
   "source": [
    "# Đọc dữ liệu bằng pandas\n",
    "train = pd.read_csv('train.csv')\n",
    "test = pd.read_csv('test.csv')\n",
    "\n",
    "# Lấy các đặc trưng X và giá trị mục tiêu y cho các tập huấn luyện (train) và kiểm tra (test)\n",
    "X_train = train.iloc[:, :-1]    # Dataframe (chứa các đặc trưng huấn luyện)\n",
    "y_train = train.iloc[:, -1]     # Series    (chứa 1 giá trị mục tiêu kiểm tra)\n",
    "\n",
    "X_test = test.iloc[:, :-1]      # Dataframe (chứa các đặc trưng kiểm tra)\n",
    "y_test = test.iloc[:, -1]       # Series    (chứa 1 giá trị mục tiêu kiểm tra)\n",
    "\n",
    "# Sinh viên có thể sử dụng các khác nếu cần"
   ]
  },
  {
   "cell_type": "markdown",
   "metadata": {},
   "source": [
    "# Cài đặt hàm"
   ]
  },
  {
   "cell_type": "code",
   "execution_count": 1353,
   "metadata": {},
   "outputs": [],
   "source": [
    "# Cài đặt các hàm cần thiết ở đây\n",
    "class OLSLinearRegression:\n",
    "    def fit(self, X, y):\n",
    "        #X_pinv is the pseudoinverse of X, which is defined as X_pinv = (X.T * X)^(-1) * X.T\n",
    "        X_pinv = np.linalg.inv(X.T @ X) @ X.T    # np.linalg.pinv(X)\n",
    "        self.w = X_pinv @ y\n",
    "\n",
    "        return self\n",
    "\n",
    "    \n",
    "    def get_params(self):\n",
    "        return self.w\n",
    "\n",
    "\n",
    "    def predict(self, X):\n",
    "        # X is a matrix of shape (n_samples, n_features)\n",
    "        # w is a vector of shape (n_features, )\n",
    "        # the result is: y = X * w, a vector of shape (n_samples, )\n",
    "        #.ravel() is used to convert a matrix into a vector\n",
    "        # vector multiplication with matrix is the same as matrix multiplication with matrix\n",
    "        return np.sum(self.w.ravel() * X, axis=1)   "
   ]
  },
  {
   "cell_type": "code",
   "execution_count": 1354,
   "metadata": {},
   "outputs": [],
   "source": [
    "def mae(y, y_hat):\n",
    "    return np.mean(np.abs(y.ravel() - y_hat.ravel()))"
   ]
  },
  {
   "cell_type": "markdown",
   "metadata": {},
   "source": [
    "# Yêu cầu 1a: Sử dụng toàn bộ 11 đặc trưng đầu tiên `Gender`, `10percentage`, `12percentage`, `CollegeTier`, `Degree`, `collegeGPA`, `CollegeCityTier`, `English`, `Logical`, `Quant`, `Domain` (2 điểm) "
   ]
  },
  {
   "cell_type": "code",
   "execution_count": 1355,
   "metadata": {},
   "outputs": [],
   "source": [
    "# Phần code cho yêu cầu 1a\n",
    "new_features = X_train.iloc[:, :11]\n",
    "x = new_features.to_numpy()\n",
    "y = y_train.to_numpy().reshape(-1, 1)\n",
    "\n",
    "\n",
    "\n",
    "lr = OLSLinearRegression().fit(x, y)\n",
    "lr.get_params()\n",
    "y_pre = lr.predict(X_test.iloc[:, :11].to_numpy())"
   ]
  },
  {
   "cell_type": "code",
   "execution_count": 1356,
   "metadata": {},
   "outputs": [
    {
     "name": "stdout",
     "output_type": "stream",
     "text": [
      "MAE:  104863.77754033315\n"
     ]
    }
   ],
   "source": [
    "# Gọi hàm MAE (tự cài đặt hoặc từ thư viện) trên tập kiểm tra\n",
    "print(\"MAE: \", mae(y_test, y_pre))"
   ]
  },
  {
   "cell_type": "markdown",
   "metadata": {},
   "source": [
    "Công thức hồi quy (phần trọng số làm tròn đến 3 chữ số thập phân, ví dụ 0.012345 $\\to$ 0.012)\n",
    "\n",
    "$$\\text{Salary} = (-22756.513)*X_1 + 804.503*X_2+ 1294.655*X_3 + (-91781.898)*X_4 + 23182.389*X_5  + 1437.549*X_6 + (-8570.662)*X_7 + 147.858*X_8 + \\\\152.888*X_9 + 117.222*X_{10} + 34552.286*X_{11}$$"
   ]
  },
  {
   "cell_type": "markdown",
   "metadata": {},
   "source": [
    "# Yêu cầu 1b: Xây dựng mô hình sử dụng duy nhất 1 đặc trưng tính cách với các đặc trưng tính cách gồm `conscientiousness`, `agreeableness`, `extraversion`, `nueroticism`, `openess_to_experience`, tìm mô hình cho kết quả tốt nhất (1 điểm)"
   ]
  },
  {
   "cell_type": "markdown",
   "metadata": {},
   "source": [
    "Lưu ý: khi sử dụng cross-validation, sinh viên cần xáo trộn dữ liệu 1 lần duy nhất và thực hiện trên toàn bộ đặc trưng"
   ]
  },
  {
   "cell_type": "code",
   "execution_count": 1357,
   "metadata": {},
   "outputs": [],
   "source": [
    "def getTrain(index, folks):\n",
    "    Train = np.empty((0, folks[0].shape[1]))\n",
    "    for i in range(len(folks)):\n",
    "        if i != index:\n",
    "            Train = np.concatenate((Train, folks[i]))\n",
    "    return Train"
   ]
  },
  {
   "cell_type": "code",
   "execution_count": 1358,
   "metadata": {},
   "outputs": [],
   "source": [
    "# Phần code cho yêu cầu 1b\n",
    "# Tìm ra đặc trưng tốt nhất\n",
    "# In ra các kết quả cross-validation như yêu cầu\n",
    "\n",
    "def Best_Feature_Personality(Df_np, k_cluster):\n",
    "    folks = np.array_split(Df_np, k_cluster) # split data to 10 folds\n",
    "    mae_arr = np.zeros((k_cluster, 5)) # array to store mae of each fold\n",
    "    for i in range(k_cluster):\n",
    "        data_train = getTrain(i, folks) # get train data (9 folds except i-th fold)\n",
    "        data_test = folks[i]            # get test data (i-th fold)\n",
    "\n",
    "        X_test, y_test = data_test[:, :-1], data_test[:, -1]  #all features and salary in test data\n",
    "\n",
    "        X_train, y_train = data_train[:, :-1], data_train[:, -1] #all features in each folds and salary in train data\n",
    "\n",
    "\n",
    "        for j in range(-5, 0):\n",
    "            feature_train, feature_test = X_train[:, j], X_test[:, j]    # 1 of 5 features in train and test data\n",
    "\n",
    "            lr = OLSLinearRegression().fit(feature_train[:, None], y_train[:, None]) # fit feature to salary\n",
    "            \n",
    "            y_pre = lr.predict(feature_test[:, None]) # predict salary\n",
    "            mae_feature = mae(y_test[:, None], y_pre[:, None]) # calculate mae\n",
    "            mae_arr[i, j+5] = mae_feature\n",
    "\n",
    "    result = np.mean(mae_arr, axis=0) # mean of mae in each feature\n",
    "    print(\"MAE of each feature: \", result)\n",
    "    return np.argmin(result) # return index of best feature"
   ]
  },
  {
   "cell_type": "code",
   "execution_count": 1359,
   "metadata": {},
   "outputs": [],
   "source": [
    "# Huấn luyện lại mô hình best_personality_feature_model với đặc trưng tốt nhất trên toàn bộ tập huấn luyện\n",
    "def best_personality_feature_model():\n",
    "    personality = [\"conscientiousness\", \"agreeableness\", \"extraversion\", \"nueroticism\", \"openess_to_experience\"]\n",
    "    Df_np = train.to_numpy()\n",
    "    np.random.default_rng().shuffle(Df_np, axis=0) # shuffle data\n",
    "\n",
    "    feature = personality[Best_Feature_Personality(Df_np, 10)]\n",
    "\n",
    "    print(\"Best feature: \", feature)\n",
    "    X_train = train.loc[:, feature].to_numpy().reshape(-1, 1)\n",
    "\n",
    "    X_test = test.loc[:, feature].to_numpy().reshape(-1, 1)\n",
    "\n",
    "    lr = OLSLinearRegression().fit(X_train, y_train)\n",
    "    return lr.predict(X_test), lr.get_params()"
   ]
  },
  {
   "cell_type": "code",
   "execution_count": 1360,
   "metadata": {},
   "outputs": [
    {
     "name": "stdout",
     "output_type": "stream",
     "text": [
      "MAE of each feature:  [306225.66405407 300825.38924735 306911.12645477 299248.15848607\n",
      " 302977.10931518]\n",
      "Best feature:  nueroticism\n",
      "MAE:  291019.693226953\n"
     ]
    }
   ],
   "source": [
    "# Gọi hàm MAE (tự cài đặt hoặc từ thư viện) trên tập kiểm tra với mô hình best_personality_feature_model\n",
    "y_pre, params = best_personality_feature_model()\n",
    "print(\"MAE: \", mae(y_test, y_pre))"
   ]
  },
  {
   "cell_type": "markdown",
   "metadata": {},
   "source": [
    "Công thức hồi quy (phần trọng số làm tròn đến 3 chữ số thập phân, ví dụ 0.012345 $\\to$ 0.012)\n",
    "\n",
    "$$\\text{Salary} = (-56546.304)*neuroticism$$"
   ]
  },
  {
   "cell_type": "markdown",
   "metadata": {},
   "source": [
    "# Yêu cầu 1c: Xây dựng mô hình sử dụng duy nhất 1 đặc trưng `English`, `Logical`, `Quant`, tìm mô hình cho kết quả tốt nhất (1 điểm)"
   ]
  },
  {
   "cell_type": "markdown",
   "metadata": {},
   "source": [
    "Lưu ý: khi sử dụng cross-validation, sinh viên cần xáo trộn dữ liệu 1 lần duy nhất và thực hiện trên toàn bộ đặc trưng"
   ]
  },
  {
   "cell_type": "code",
   "execution_count": 1361,
   "metadata": {},
   "outputs": [],
   "source": [
    "# Phần code cho yêu cầu 1c\n",
    "# Tìm ra đặc trưng tốt nhất\n",
    "# In ra các kết quả cross-validation như yêu cầu\n",
    "Feature_index = [train.columns.get_loc(c) for c in train.columns if c in [\"English\", \"Logical\", \"Quant\"]]\n",
    "\n",
    "def Best_Feature_Skill(Df_np, k_cluster):\n",
    "    folks = np.array_split(Df_np, k_cluster) # split data to 10 folds\n",
    "    mae_arr = np.zeros((k_cluster, 3)) # array to store mae of each fold\n",
    "\n",
    "    for i in range(k_cluster):\n",
    "        data_train = getTrain(i, folks) # get train data (9 folds except i-th fold)\n",
    "        data_test = folks[i]            # get test data (i-th fold)\n",
    "\n",
    "        X_test, y_test = data_test[:, :-1], data_test[:, -1]  #all features and salary in test data\n",
    "\n",
    "        X_train, y_train = data_train[:, :-1], data_train[:, -1] #all features in each folds and salary in train data\n",
    "\n",
    "        col = 0\n",
    "        for j in Feature_index:\n",
    "            feature_train, feature_test = X_train[:, j], X_test[:, j]    # 1 of 5 features in train and test data\n",
    "\n",
    "            lr = OLSLinearRegression().fit(feature_train[:, None], y_train[:, None]) # fit feature to salary\n",
    "            \n",
    "            y_pre = lr.predict(feature_test[:, None]) # predict salary\n",
    "            mae_feature = mae(y_test[:, None], y_pre[:, None]) # calculate mae\n",
    "            mae_arr[i, col] = mae_feature\n",
    "            col += 1\n",
    "\n",
    "    result = np.mean(mae_arr, axis=0) # mean of mae in each feature\n",
    "    print(\"MAE of each feature: \", result.round(3))\n",
    "    return np.argmin(result) # return index of best feature"
   ]
  },
  {
   "cell_type": "code",
   "execution_count": 1362,
   "metadata": {},
   "outputs": [],
   "source": [
    "# Huấn luyện lại mô hình best_skill_feature_model với đặc trưng tốt nhất trên toàn bộ tập huấn luyện\n",
    "def best_skill_feature_model():\n",
    "    Df_np = train.to_numpy()\n",
    "    np.random.default_rng().shuffle(Df_np, axis=0) # shuffle data\n",
    "\n",
    "    feature = Feature_index[Best_Feature_Skill(Df_np, 10)]\n",
    "\n",
    "    print(\"Best feature: \", train.columns[feature])\n",
    "    X_train = train.iloc[:, feature].to_numpy().reshape(-1, 1)\n",
    "\n",
    "    X_test = test.iloc[:, feature].to_numpy().reshape(-1, 1)\n",
    "\n",
    "    lr = OLSLinearRegression().fit(X_train, y_train)\n",
    "    return lr.predict(X_test), lr.get_params()"
   ]
  },
  {
   "cell_type": "code",
   "execution_count": 1363,
   "metadata": {},
   "outputs": [
    {
     "name": "stdout",
     "output_type": "stream",
     "text": [
      "MAE of each feature:  [121860.684 120236.903 118059.292]\n",
      "Best feature:  Quant\n",
      "MAE:  106819.5776198967\n"
     ]
    }
   ],
   "source": [
    "# Gọi hàm MAE (tự cài đặt hoặc từ thư viện) trên tập kiểm tra với mô hình best_skill_feature_model\n",
    "y_pre, params = best_skill_feature_model()\n",
    "print(\"MAE: \", mae(y_test, y_pre))"
   ]
  },
  {
   "cell_type": "markdown",
   "metadata": {},
   "source": [
    "Công thức hồi quy (phần trọng số làm tròn đến 3 chữ số thập phân, ví dụ 0.012345 $\\to$ 0.012)\n",
    "\n",
    "$$\\text{Salary} = (585.895) * Quant$$"
   ]
  },
  {
   "cell_type": "markdown",
   "metadata": {},
   "source": [
    "# Yêu cầu 1d: Sinh viên tự xây dựng mô hình, tìm mô hình cho kết quả tốt nhất (3 điểm)"
   ]
  },
  {
   "cell_type": "markdown",
   "metadata": {},
   "source": [
    "Lưu ý: khi sử dụng cross-validation, sinh viên cần xáo trộn dữ liệu 1 lần duy nhất và thực hiện trên toàn bộ $m$ mô hình mà sinh viên thiết kế"
   ]
  },
  {
   "cell_type": "markdown",
   "metadata": {},
   "source": [
    "## Tìm mô hình"
   ]
  },
  {
   "cell_type": "code",
   "execution_count": 1364,
   "metadata": {},
   "outputs": [],
   "source": [
    "# Trình bày các phần tìm ra mô hình\n",
    "\n",
    "\n",
    "#Model1 (Dropping constant feature)\n",
    "def model_variance_Dropping(X_train):\n",
    "    var_thres = VarianceThreshold(threshold=0.1)\n",
    "    var_thres.fit(X_train)\n",
    "    constant_columns = [column for column in X_train.columns if column not in X_train.columns[var_thres.get_support()]]\n",
    "\n",
    "    return constant_columns\n",
    "\n",
    "#Model 2 (Dropping highly correlated)\n",
    "def model_correlation_Dropping(X_train, threshold):\n",
    "    col_corr = list()  # Set of all the names of correlated columns\n",
    "    corr_matrix = X_train.corr()\n",
    "    for i in range(len(corr_matrix.columns)):\n",
    "        for j in range(i):\n",
    "            if abs(corr_matrix.iloc[i, j]) > threshold: # we are interested in absolute coeff value\n",
    "                colname = corr_matrix.columns[i]  # getting the name of column\n",
    "                col_corr.append(colname)\n",
    "    return col_corr\n",
    "\n",
    "#Model 3 (Selecting highly mutual information)\n",
    "def model_MutualInfor_selection(X_train, Y_train):\n",
    "    np.random.seed(0)\n",
    "    selected_top_columns = SelectPercentile(mutual_info_regression, percentile=70)\n",
    "    selected_top_columns.fit(X_train, Y_train)\n",
    "\n",
    "    select_feature = list(X_train.columns[selected_top_columns.get_support()].values)\n",
    "    return select_feature\n"
   ]
  },
  {
   "cell_type": "markdown",
   "metadata": {},
   "source": [
    "## Thử nghiệm, so sánh các mô hình"
   ]
  },
  {
   "cell_type": "code",
   "execution_count": 1365,
   "metadata": {},
   "outputs": [],
   "source": [
    "def cross_validation_model(Df_np, k_cluster):\n",
    "    folks = np.array_split(Df_np, k_cluster) # split data to 10 folds\n",
    "    mae_arr = np.zeros(k_cluster) # array to store mae of each fold\n",
    "    for i in range(k_cluster):\n",
    "        data_train = getTrain(i, folks) # get train data (9 folds except i-th fold)\n",
    "        data_test = folks[i]            # get test data (i-th fold)\n",
    "\n",
    "        X_test, y_test = data_test[:, :-1], data_test[:, -1]  #all features and salary in test data\n",
    "\n",
    "        X_train, y_train = data_train[:, :-1], data_train[:, -1] #all features in each folds and salary in train data\n",
    "\n",
    "        lr = OLSLinearRegression().fit(X_train, y_train) # fit model\n",
    "        y_pre = lr.predict(X_test) # predict salary\n",
    "        mae_arr[i] = mae(y_test, y_pre) # calculate mae of each fold\n",
    "    return np.mean(mae_arr) # calculate mean of mae of 10 folds"
   ]
  },
  {
   "cell_type": "markdown",
   "metadata": {},
   "source": [
    "### 1. Creating 3 models"
   ]
  },
  {
   "cell_type": "code",
   "execution_count": 1366,
   "metadata": {},
   "outputs": [],
   "source": [
    "model1 = model_variance_Dropping(X_train)\n",
    "model2 = model_correlation_Dropping(X_train, 0.6)\n",
    "model3 = model_MutualInfor_selection(X_train, y_train)\n",
    "model3.append(\"Salary\")\n",
    "\n",
    "models = [model1, model2, model3]\n"
   ]
  },
  {
   "cell_type": "markdown",
   "metadata": {},
   "source": [
    "### 2. Find and train best mode"
   ]
  },
  {
   "cell_type": "code",
   "execution_count": 1367,
   "metadata": {},
   "outputs": [
    {
     "name": "stdout",
     "output_type": "stream",
     "text": [
      "cross-validation result: [111840.89749785 110864.29587973 110815.87129107]\n",
      "Best model is model 3 : ['Gender', '10percentage', '12percentage', 'CollegeTier', 'collegeGPA', 'English', 'Logical', 'Quant', 'Domain', 'ComputerProgramming', 'ComputerScience', 'conscientiousness', 'agreeableness', 'extraversion', 'nueroticism', 'openess_to_experience']\n"
     ]
    }
   ],
   "source": [
    "# Phần code cho yêu cầu 1d\n",
    "# Tìm ra mô hình tốt nhất (tự thiết kế bởi sinh viên)\n",
    "# In ra các kết quả cross-validation như yêu cầu\n",
    "def my_best_model(models):\n",
    "    mae_avg_models = np.zeros(len(models))\n",
    "    for i in range(len(models)):\n",
    "        if i == 2:\n",
    "            train_data = train.loc[:, models[i]]\n",
    "        else:\n",
    "            train_data = train.drop(models[i], axis=1)\n",
    "        \n",
    "        Df_np = train_data.to_numpy()\n",
    "        np.random.default_rng().shuffle(Df_np, axis=0)\n",
    "        mae_avg_models[i] = cross_validation_model(Df_np, 10)\n",
    "    print(\"cross-validation result:\",mae_avg_models)\n",
    "    return np.argmin(mae_avg_models)\n",
    "\n",
    "\n",
    "model_index = my_best_model(models)\n",
    "best_model = models[model_index]\n",
    "best_model.remove('Salary')\n",
    "\n",
    "print('Best model is model', model_index + 1, ':', best_model)         \n"
   ]
  },
  {
   "cell_type": "code",
   "execution_count": 1368,
   "metadata": {},
   "outputs": [],
   "source": [
    "# Huấn luyện lại mô hình my_best_model trên toàn bộ tập huấn luyện\n",
    "def train_my_best_model():\n",
    "    X_train, X_test = train[best_model].to_numpy(), test[best_model].to_numpy()\n",
    "    Y_train, Y_test = train.loc[:, 'Salary'], test.loc[:, 'Salary'].to_numpy()\n",
    "\n",
    "    lr = OLSLinearRegression().fit(X_train, Y_train)\n",
    "    Y_pred = lr.predict(X_test)\n",
    "    return Y_pred, Y_test"
   ]
  },
  {
   "cell_type": "code",
   "execution_count": 1369,
   "metadata": {},
   "outputs": [
    {
     "name": "stdout",
     "output_type": "stream",
     "text": [
      "MAE of best model:  102431.57002986001\n"
     ]
    }
   ],
   "source": [
    "# Gọi hàm MAE (tự cài đặt hoặc từ thư viện) trên tập kiểm tra với mô hình my_best_model\n",
    "# In ra kết quả MAE trên tập kiểm tra\n",
    "y_pred, y_test = train_my_best_model()\n",
    "print(\"MAE of best model: \", mae(y_pred, y_test))"
   ]
  },
  {
   "cell_type": "markdown",
   "metadata": {},
   "source": [
    "Công thức hồi quy (phần trọng số làm tròn đến 3 chữ số thập phân, ví dụ 0.012345 $\\to$ 0.012)\n",
    "\n",
    "$$\\text{Salary} = (-23438.408)*Gender + (887.524)*10percentage + (971.041)*12percentage + (-79706.706)*CollegeTier + (1689.069)*collegeGPA + (148.766)*English + \\\\(132.912)*Logical + (95.513)*Quant\n",
    "+ (22104.286)*Domain + (104.259)*ComputerProgramming + (-164.058)*ComputerScience + (-20216.903)*conscientiousness\\\\ + (16789.581)*agreeableness + (5018.386)*extraversion + (-9649.493)*nueroticism\n",
    "+ (-6317.617)*openess\\_to\\_experience\n",
    "$$"
   ]
  }
 ],
 "metadata": {
  "kernelspec": {
   "display_name": "Python 3.8.5 ('base')",
   "language": "python",
   "name": "python3"
  },
  "language_info": {
   "codemirror_mode": {
    "name": "ipython",
    "version": 3
   },
   "file_extension": ".py",
   "mimetype": "text/x-python",
   "name": "python",
   "nbconvert_exporter": "python",
   "pygments_lexer": "ipython3",
   "version": "3.10.12"
  },
  "orig_nbformat": 4,
  "vscode": {
   "interpreter": {
    "hash": "15af99fd1a1a3f0a3416ea421564e792a8676a13670c2eed127d89ab0518a27b"
   }
  }
 },
 "nbformat": 4,
 "nbformat_minor": 2
}
