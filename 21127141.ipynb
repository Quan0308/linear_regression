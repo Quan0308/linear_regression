{
 "cells": [
  {
   "cell_type": "markdown",
   "metadata": {},
   "source": [
    "# <center>Đồ án 3: Linear Regression</center>"
   ]
  },
  {
   "cell_type": "markdown",
   "metadata": {},
   "source": [
    "# Thông tin sinh viên\n",
    "\n",
    "- Họ và tên: Bùi Đỗ Duy Quân\n",
    "- MSSV: 21127141\n",
    "- Lớp: 21CLC02"
   ]
  },
  {
   "cell_type": "markdown",
   "metadata": {},
   "source": [
    "# Import"
   ]
  },
  {
   "cell_type": "code",
   "execution_count": 52,
   "metadata": {},
   "outputs": [],
   "source": [
    "import pandas as pd\n",
    "import numpy as np\n",
    "\n",
    "# Import thêm dữ thư viện nếu cần"
   ]
  },
  {
   "cell_type": "markdown",
   "metadata": {},
   "source": [
    "# Đọc dữ liệu"
   ]
  },
  {
   "cell_type": "code",
   "execution_count": 53,
   "metadata": {},
   "outputs": [],
   "source": [
    "# Đọc dữ liệu bằng pandas\n",
    "train = pd.read_csv('train.csv')\n",
    "test = pd.read_csv('test.csv')\n",
    "\n",
    "# Lấy các đặc trưng X và giá trị mục tiêu y cho các tập huấn luyện (train) và kiểm tra (test)\n",
    "X_train = train.iloc[:, :-1]    # Dataframe (chứa các đặc trưng huấn luyện)\n",
    "y_train = train.iloc[:, -1]     # Series    (chứa 1 giá trị mục tiêu kiểm tra)\n",
    "\n",
    "X_test = test.iloc[:, :-1]      # Dataframe (chứa các đặc trưng kiểm tra)\n",
    "y_test = test.iloc[:, -1]       # Series    (chứa 1 giá trị mục tiêu kiểm tra)\n",
    "\n",
    "# Sinh viên có thể sử dụng các khác nếu cần"
   ]
  },
  {
   "cell_type": "markdown",
   "metadata": {},
   "source": [
    "# Cài đặt hàm"
   ]
  },
  {
   "cell_type": "code",
   "execution_count": 54,
   "metadata": {},
   "outputs": [],
   "source": [
    "# Cài đặt các hàm cần thiết ở đây\n",
    "class OLSLinearRegression:\n",
    "    def fit(self, X, y):\n",
    "        #X_pinv is the pseudoinverse of X, which is defined as X_pinv = (X.T * X)^(-1) * X.T\n",
    "        X_pinv = np.linalg.inv(X.T @ X) @ X.T    # np.linalg.pinv(X)\n",
    "        self.w = X_pinv @ y\n",
    "\n",
    "        return self\n",
    "\n",
    "    \n",
    "    def get_params(self):\n",
    "        return self.w\n",
    "\n",
    "\n",
    "    def predict(self, X):\n",
    "        # X is a matrix of shape (n_samples, n_features)\n",
    "        # w is a vector of shape (n_features, )\n",
    "        # the result is: y = X * w, a vector of shape (n_samples, )\n",
    "        #.ravel() is used to convert a matrix into a vector\n",
    "        # vector multiplication with matrix is the same as matrix multiplication with matrix\n",
    "        return np.sum(self.w.ravel() * X, axis=1)   "
   ]
  },
  {
   "cell_type": "code",
   "execution_count": 55,
   "metadata": {},
   "outputs": [],
   "source": [
    "def mae(y, y_hat):\n",
    "    return np.mean(np.abs(y.ravel() - y_hat.ravel()))"
   ]
  },
  {
   "cell_type": "markdown",
   "metadata": {},
   "source": [
    "# Yêu cầu 1a: Sử dụng toàn bộ 11 đặc trưng đầu tiên `Gender`, `10percentage`, `12percentage`, `CollegeTier`, `Degree`, `collegeGPA`, `CollegeCityTier`, `English`, `Logical`, `Quant`, `Domain` (2 điểm) "
   ]
  },
  {
   "cell_type": "code",
   "execution_count": 56,
   "metadata": {},
   "outputs": [],
   "source": [
    "# Phần code cho yêu cầu 1a\n",
    "new_features = X_train.iloc[:, :11]\n",
    "x = new_features.to_numpy()\n",
    "y = y_train.to_numpy().reshape(-1, 1)\n",
    "\n",
    "\n",
    "\n",
    "lr = OLSLinearRegression().fit(x, y)\n",
    "lr.get_params()\n",
    "y_pre = lr.predict(X_test.iloc[:, :11].to_numpy())"
   ]
  },
  {
   "cell_type": "code",
   "execution_count": 57,
   "metadata": {},
   "outputs": [
    {
     "name": "stdout",
     "output_type": "stream",
     "text": [
      "MAE:  104863.77754033315\n"
     ]
    }
   ],
   "source": [
    "# Gọi hàm MAE (tự cài đặt hoặc từ thư viện) trên tập kiểm tra\n",
    "print(\"MAE: \", mae(y_test, y_pre))"
   ]
  },
  {
   "cell_type": "markdown",
   "metadata": {},
   "source": [
    "Công thức hồi quy (phần trọng số làm tròn đến 3 chữ số thập phân, ví dụ 0.012345 $\\to$ 0.012)\n",
    "\n",
    "$$\\text{Salary} = (-22756.513)*X_1 + 804.503*X_2+ 1294.655*X_3 + (-91781.898)*X_4 + 23182.389*X_5  + 1437.549*X_6 + (-8570.662)*X_7 + 147.858*X_8 + \\\\152.888*X_9 + 117.222*X_{10} + 34552.286*X_{11}$$"
   ]
  },
  {
   "cell_type": "markdown",
   "metadata": {},
   "source": [
    "# Yêu cầu 1b: Xây dựng mô hình sử dụng duy nhất 1 đặc trưng tính cách với các đặc trưng tính cách gồm `conscientiousness`, `agreeableness`, `extraversion`, `nueroticism`, `openess_to_experience`, tìm mô hình cho kết quả tốt nhất (1 điểm)"
   ]
  },
  {
   "cell_type": "markdown",
   "metadata": {},
   "source": [
    "Lưu ý: khi sử dụng cross-validation, sinh viên cần xáo trộn dữ liệu 1 lần duy nhất và thực hiện trên toàn bộ đặc trưng"
   ]
  },
  {
   "cell_type": "code",
   "execution_count": 58,
   "metadata": {},
   "outputs": [],
   "source": [
    "def getTrain(index, folks):\n",
    "    Train = np.empty((0, folks[0].shape[1]))\n",
    "    for i in range(len(folks)):\n",
    "        if i != index:\n",
    "            Train = np.concatenate((Train, folks[i]))\n",
    "    return Train"
   ]
  },
  {
   "cell_type": "code",
   "execution_count": 59,
   "metadata": {},
   "outputs": [],
   "source": [
    "# Phần code cho yêu cầu 1b\n",
    "# Tìm ra đặc trưng tốt nhất\n",
    "# In ra các kết quả cross-validation như yêu cầu\n",
    "\n",
    "def Best_Feature_Personality(Df_np, k_cluster):\n",
    "    folks = np.array_split(Df_np, k_cluster) # split data to 10 folds\n",
    "    mae_arr = np.zeros((k_cluster, 5)) # array to store mae of each fold\n",
    "    for i in range(k_cluster):\n",
    "        data_train = getTrain(i, folks) # get train data (9 folds except i-th fold)\n",
    "        data_test = folks[i]            # get test data (i-th fold)\n",
    "\n",
    "        X_test, y_test = data_test[:, :-1], data_test[:, -1]  #all features and salary in test data\n",
    "\n",
    "        X_train, y_train = data_train[:, :-1], data_train[:, -1] #all features in each folds and salary in train data\n",
    "\n",
    "\n",
    "        for j in range(-5, 0):\n",
    "            feature_train, feature_test = X_train[:, j], X_test[:, j]    # 1 of 5 features in train and test data\n",
    "\n",
    "            lr = OLSLinearRegression().fit(feature_train[:, None], y_train[:, None]) # fit feature to salary\n",
    "            \n",
    "            y_pre = lr.predict(feature_test[:, None]) # predict salary\n",
    "            mae_feature = mae(y_test[:, None], y_pre[:, None]) # calculate mae\n",
    "            mae_arr[i, j+5] = mae_feature\n",
    "\n",
    "    result = np.mean(mae_arr, axis=0) # mean of mae in each feature\n",
    "    print(\"MAE of each feature: \", result)\n",
    "    return np.argmin(result) # return index of best feature"
   ]
  },
  {
   "cell_type": "code",
   "execution_count": 60,
   "metadata": {},
   "outputs": [],
   "source": [
    "# Huấn luyện lại mô hình best_personality_feature_model với đặc trưng tốt nhất trên toàn bộ tập huấn luyện\n",
    "def best_personality_feature_model():\n",
    "    personality = [\"conscientiousness\", \"agreeableness\", \"extraversion\", \"nueroticism\", \"openess_to_experience\"]\n",
    "    Df_np = train.to_numpy()\n",
    "    np.random.default_rng().shuffle(Df_np, axis=0) # shuffle data\n",
    "\n",
    "    feature = personality[Best_Feature_Personality(Df_np, 10)]\n",
    "\n",
    "    print(\"Best feature: \", feature)\n",
    "    X_train = train.loc[:, feature].to_numpy().reshape(-1, 1)\n",
    "\n",
    "    X_test = test.loc[:, feature].to_numpy().reshape(-1, 1)\n",
    "\n",
    "    lr = OLSLinearRegression().fit(X_train, y_train)\n",
    "    return lr.predict(X_test), lr.get_params()"
   ]
  },
  {
   "cell_type": "code",
   "execution_count": 61,
   "metadata": {},
   "outputs": [
    {
     "name": "stdout",
     "output_type": "stream",
     "text": [
      "MAE of each feature:  [306226.69154922 300790.04869829 306998.20881964 299281.34116466\n",
      " 302984.14166465]\n",
      "Best feature:  nueroticism\n",
      "MAE:  291019.693226953\n",
      "Params:  [-56546.304]\n"
     ]
    }
   ],
   "source": [
    "# Gọi hàm MAE (tự cài đặt hoặc từ thư viện) trên tập kiểm tra với mô hình best_personality_feature_model\n",
    "y_pre, params = best_personality_feature_model()\n",
    "print(\"MAE: \", mae(y_test, y_pre))\n",
    "print(\"Params: \", params)"
   ]
  },
  {
   "cell_type": "markdown",
   "metadata": {},
   "source": [
    "Công thức hồi quy (phần trọng số làm tròn đến 3 chữ số thập phân, ví dụ 0.012345 $\\to$ 0.012)\n",
    "\n",
    "$$\\text{Salary} = (-56546.304)*neuroticism$$"
   ]
  },
  {
   "cell_type": "markdown",
   "metadata": {},
   "source": [
    "# Yêu cầu 1c: Xây dựng mô hình sử dụng duy nhất 1 đặc trưng `English`, `Logical`, `Quant`, tìm mô hình cho kết quả tốt nhất (1 điểm)"
   ]
  },
  {
   "cell_type": "markdown",
   "metadata": {},
   "source": [
    "Lưu ý: khi sử dụng cross-validation, sinh viên cần xáo trộn dữ liệu 1 lần duy nhất và thực hiện trên toàn bộ đặc trưng"
   ]
  },
  {
   "cell_type": "code",
   "execution_count": 62,
   "metadata": {},
   "outputs": [],
   "source": [
    "# Phần code cho yêu cầu 1c\n",
    "# Tìm ra đặc trưng tốt nhất\n",
    "# In ra các kết quả cross-validation như yêu cầu\n",
    "Feature_index = [train.columns.get_loc(c) for c in train.columns if c in [\"English\", \"Logical\", \"Quant\"]]\n",
    "\n",
    "def Best_Feature_Skill(Df_np, k_cluster):\n",
    "    folks = np.array_split(Df_np, k_cluster) # split data to 10 folds\n",
    "    mae_arr = np.zeros((k_cluster, 3)) # array to store mae of each fold\n",
    "\n",
    "    for i in range(k_cluster):\n",
    "        data_train = getTrain(i, folks) # get train data (9 folds except i-th fold)\n",
    "        data_test = folks[i]            # get test data (i-th fold)\n",
    "\n",
    "        X_test, y_test = data_test[:, :-1], data_test[:, -1]  #all features and salary in test data\n",
    "\n",
    "        X_train, y_train = data_train[:, :-1], data_train[:, -1] #all features in each folds and salary in train data\n",
    "\n",
    "        col = 0\n",
    "        for j in Feature_index:\n",
    "            feature_train, feature_test = X_train[:, j], X_test[:, j]    # 1 of 5 features in train and test data\n",
    "\n",
    "            lr = OLSLinearRegression().fit(feature_train[:, None], y_train[:, None]) # fit feature to salary\n",
    "            \n",
    "            y_pre = lr.predict(feature_test[:, None]) # predict salary\n",
    "            mae_feature = mae(y_test[:, None], y_pre[:, None]) # calculate mae\n",
    "            mae_arr[i, col] = mae_feature\n",
    "            col += 1\n",
    "\n",
    "    result = np.mean(mae_arr, axis=0) # mean of mae in each feature\n",
    "    print(\"MAE of each feature: \", result.round(3))\n",
    "    return np.argmin(result) # return index of best feature"
   ]
  },
  {
   "cell_type": "code",
   "execution_count": 63,
   "metadata": {},
   "outputs": [],
   "source": [
    "# Huấn luyện lại mô hình best_skill_feature_model với đặc trưng tốt nhất trên toàn bộ tập huấn luyện\n",
    "def best_skill_feature_model():\n",
    "    Df_np = train.to_numpy()\n",
    "    np.random.default_rng().shuffle(Df_np, axis=0) # shuffle data\n",
    "\n",
    "    feature = Feature_index[Best_Feature_Skill(Df_np, 10)]\n",
    "\n",
    "    print(\"Best feature: \", train.columns[feature])\n",
    "    X_train = train.iloc[:, feature].to_numpy().reshape(-1, 1)\n",
    "\n",
    "    X_test = test.iloc[:, feature].to_numpy().reshape(-1, 1)\n",
    "\n",
    "    lr = OLSLinearRegression().fit(X_train, y_train)\n",
    "    return lr.predict(X_test), lr.get_params()"
   ]
  },
  {
   "cell_type": "code",
   "execution_count": 64,
   "metadata": {},
   "outputs": [
    {
     "name": "stdout",
     "output_type": "stream",
     "text": [
      "MAE of each feature:  [121982.572 120312.947 118133.097]\n",
      "Best feature:  Quant\n",
      "MAE:  106819.5776198967\n",
      "Params:  [585.895]\n"
     ]
    }
   ],
   "source": [
    "# Gọi hàm MAE (tự cài đặt hoặc từ thư viện) trên tập kiểm tra với mô hình best_skill_feature_model\n",
    "y_pre, params = best_skill_feature_model()\n",
    "print(\"MAE: \", mae(y_test, y_pre))\n",
    "print(\"Params: \", params)"
   ]
  },
  {
   "cell_type": "markdown",
   "metadata": {},
   "source": [
    "Công thức hồi quy (phần trọng số làm tròn đến 3 chữ số thập phân, ví dụ 0.012345 $\\to$ 0.012)\n",
    "\n",
    "$$\\text{Salary} = (585.895) * Quant$$"
   ]
  },
  {
   "cell_type": "markdown",
   "metadata": {},
   "source": [
    "# Yêu cầu 1d: Sinh viên tự xây dựng mô hình, tìm mô hình cho kết quả tốt nhất (3 điểm)"
   ]
  },
  {
   "cell_type": "markdown",
   "metadata": {},
   "source": [
    "Lưu ý: khi sử dụng cross-validation, sinh viên cần xáo trộn dữ liệu 1 lần duy nhất và thực hiện trên toàn bộ $m$ mô hình mà sinh viên thiết kế"
   ]
  },
  {
   "cell_type": "markdown",
   "metadata": {},
   "source": [
    "## Tìm mô hình"
   ]
  },
  {
   "cell_type": "code",
   "execution_count": 65,
   "metadata": {},
   "outputs": [],
   "source": [
    "# Trình bày các phần tìm ra mô hình"
   ]
  },
  {
   "cell_type": "markdown",
   "metadata": {},
   "source": [
    "## Thử nghiệm, so sánh các mô hình"
   ]
  },
  {
   "cell_type": "code",
   "execution_count": 66,
   "metadata": {},
   "outputs": [],
   "source": [
    "# Phần code cho yêu cầu 1d\n",
    "# Tìm ra mô hình tốt nhất (tự thiết kế bởi sinh viên)\n",
    "# In ra các kết quả cross-validation như yêu cầu"
   ]
  },
  {
   "cell_type": "code",
   "execution_count": 67,
   "metadata": {},
   "outputs": [],
   "source": [
    "# Huấn luyện lại mô hình my_best_model trên toàn bộ tập huấn luyện"
   ]
  },
  {
   "cell_type": "code",
   "execution_count": 68,
   "metadata": {},
   "outputs": [],
   "source": [
    "# Gọi hàm MAE (tự cài đặt hoặc từ thư viện) trên tập kiểm tra với mô hình my_best_model"
   ]
  },
  {
   "cell_type": "markdown",
   "metadata": {},
   "source": [
    "Công thức hồi quy (phần trọng số làm tròn đến 3 chữ số thập phân, ví dụ 0.012345 $\\to$ 0.012)\n",
    "\n",
    "$$\\text{Salary} = ...$$"
   ]
  }
 ],
 "metadata": {
  "kernelspec": {
   "display_name": "Python 3.8.5 ('base')",
   "language": "python",
   "name": "python3"
  },
  "language_info": {
   "codemirror_mode": {
    "name": "ipython",
    "version": 3
   },
   "file_extension": ".py",
   "mimetype": "text/x-python",
   "name": "python",
   "nbconvert_exporter": "python",
   "pygments_lexer": "ipython3",
   "version": "3.10.12"
  },
  "orig_nbformat": 4,
  "vscode": {
   "interpreter": {
    "hash": "15af99fd1a1a3f0a3416ea421564e792a8676a13670c2eed127d89ab0518a27b"
   }
  }
 },
 "nbformat": 4,
 "nbformat_minor": 2
}
